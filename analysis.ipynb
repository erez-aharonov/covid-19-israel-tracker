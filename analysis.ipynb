{
 "cells": [
  {
   "cell_type": "code",
   "execution_count": 322,
   "metadata": {},
   "outputs": [],
   "source": [
    "from selenium import webdriver\n",
    "import pandas as pd\n",
    "import time\n",
    "import itertools\n",
    "import pprint\n",
    "import json\n",
    "import re\n",
    "from IPython.display import display\n",
    "from IPython.display import clear_output\n",
    "from matplotlib import pyplot as plt\n",
    "pd.set_option('display.max_colwidth', -1)"
   ]
  },
  {
   "cell_type": "code",
   "execution_count": 34,
   "metadata": {},
   "outputs": [],
   "source": [
    "driver = webdriver.Chrome('/usr/bin/chromedriver')"
   ]
  },
  {
   "cell_type": "markdown",
   "metadata": {},
   "source": [
    "# get all settlements links"
   ]
  },
  {
   "cell_type": "code",
   "execution_count": null,
   "metadata": {},
   "outputs": [],
   "source": [
    "driver.get('https://www.gov.il/he/departments/news/?OfficeId=104cb0f4-d65a-4692-b590-94af928c19c0&limit=10&topic=3ef9cac8-a1a9-4352-91d4-860efd3b720d&subTopic=626a30f9-8b50-495a-9b9f-e4ce4b433ca5')"
   ]
  },
  {
   "cell_type": "code",
   "execution_count": null,
   "metadata": {},
   "outputs": [],
   "source": [
    "settlements_url_list_of_lists = []\n",
    "while True:\n",
    "    series = pd.Series(driver.page_source.split(' '))\n",
    "    settlements_url_list = series[series.str.contains('-corona')].apply(lambda x: x[6:-1]).tolist()\n",
    "    settlements_url_list_of_lists.append(settlements_url_list)\n",
    "    element = driver.find_elements_by_xpath(\"//div[contains(@class, 'button-gov blue xs-pl-5 xs-pr-5')]\")[1]\n",
    "    if element.is_displayed():\n",
    "        element.click()\n",
    "        time.sleep(0.25)\n",
    "    else:\n",
    "        break"
   ]
  },
  {
   "cell_type": "code",
   "execution_count": null,
   "metadata": {},
   "outputs": [],
   "source": [
    "all_settlements_list = list(itertools.chain.from_iterable(settlements_url_list_of_lists))\n",
    "all_settlements_series = pd.Series(pd.Series(all_settlements_list).unique())\n",
    "display(all_settlements_series.shape)\n",
    "display(all_settlements_series.head())"
   ]
  },
  {
   "cell_type": "code",
   "execution_count": null,
   "metadata": {},
   "outputs": [],
   "source": [
    "all_cities_series = pd.read_csv('./all_cities_links.csv', header=None)[0]\n",
    "display(all_cities_series.head())\n",
    "display(all_cities_series.shape)"
   ]
  },
  {
   "cell_type": "markdown",
   "metadata": {},
   "source": [
    "# get settlements datums"
   ]
  },
  {
   "cell_type": "code",
   "execution_count": 62,
   "metadata": {},
   "outputs": [],
   "source": [
    "def get_city_data(driver):\n",
    "    main_xpath = '//div[@class=\\'margin-for-ul txt dark-gray-txt lg-mb-30 tbl-accesabilty tbl-responsive sub-links-permanent-underline\\']//'\n",
    "    xpath = f'{main_xpath}h3 | {main_xpath}h2 | {main_xpath}p | {main_xpath}li'\n",
    "    elements_list = driver.find_elements_by_xpath(xpath)\n",
    "    datum_list = [element.text for element in elements_list]\n",
    "    b = pd.Series(datum_list)\n",
    "    datum_clean_list = b[:b[b.str.contains('הנחיות לציבור')].index[0]].tolist()\n",
    "    return datum_clean_list"
   ]
  },
  {
   "cell_type": "code",
   "execution_count": 63,
   "metadata": {
    "scrolled": true
   },
   "outputs": [
    {
     "name": "stdout",
     "output_type": "stream",
     "text": [
      "194 / 194: https://www.gov.il/he/departments/news/nof-hagalil-corona\n",
      "{'title': 'נוף הגליל - מקומות בהם שהו חולי קורונה | משרד הבריאות', 'datum': ['מקומות בהם שהו חולי קורונה בנוף הגליל', 'תאריך עדכון: 20/04/2020', '16/04/2020 14:00 16/04/2020 14:45 משהדאוי קינג סטור המוביל נוף הגליל', '16/04/2020 12:30 16/04/2020 13:45 מרכאזה העבודה 1 נוף הגליל', '14/04/2020 14:00 14/04/2020 16:00 מרכאזה העבודה 1 נוף הגליל', 'תאריך עדכון: 17/04/2020', '11.4.20, 12:00-13:00 - רשת המזון\"MERKAZA\", נוף הגליל', '11.4.20, 12:00-13:00 - רשת מזון\"MERKAZA\", נוף הגליל', 'תאריך עדכון 11/04/2020', '4.4.20, 13:00-14:00 - מרכז המזון, נוף הגליל', '29.3.20, 8:00-18:00 - עיריית נוף הגליל, נוף הגליל', 'תאריך עדכון 05/04/2020', '29.3.2020 16:30 - 17:30 בית העלין נוף הגליל', 'תאריך עדכון: 01/04/2020', '24/3/2020 20:30 - 21:30 אושר עד', '25/3/2020 19:00 - 21:30 עיריית נוף הגליל - אריזת אוכל לקשישים', 'תאריך עדכון: 31/03/2020', '18/03/2020 16:00 -18:00 סופרמרקט אושר עד נוף הגליל', 'תאריך עדכון: 24/03/2020 22:00', \"13.3 09:00-14:00 חנות גליתא – דודג' סנטר נוף הגליל.\", \"13.3 09:00-14:00 חנות גליתא – דודג' סנטר נוף הגליל.\", '13.3: 15:00-16:00 מתחם ביג פאשן חנויות דיזל ללין קאטוף נוף הגליל.']}\n"
     ]
    }
   ],
   "source": [
    "all_settlements_dict = {}\n",
    "\n",
    "for index, city_link in enumerate(all_cities_series):        \n",
    "    driver.get(city_link)\n",
    "    time.sleep(0.25)\n",
    "    clear_output(wait=True) \n",
    "    city_datum_list = get_city_data(driver)\n",
    "    all_settlements_dict[city_link] = {'title': driver.title, 'datum': city_datum_list}    \n",
    "    print(f'{index + 1} / {len(all_cities_series)}: {city_link}')\n",
    "    print(all_settlements_dict[city_link])"
   ]
  },
  {
   "cell_type": "code",
   "execution_count": 194,
   "metadata": {},
   "outputs": [],
   "source": [
    "all_settlements_dict = settlements_dict"
   ]
  },
  {
   "cell_type": "code",
   "execution_count": 195,
   "metadata": {},
   "outputs": [],
   "source": [
    "with open('all_settlements_dict.json', 'w') as fp:\n",
    "    json.dump(all_settlements_dict, fp)\n",
    "with open('all_settlements_dict.json', 'r') as fp:\n",
    "    all_settlements_dict = json.load(fp)"
   ]
  },
  {
   "cell_type": "markdown",
   "metadata": {},
   "source": [
    "# extract incident date"
   ]
  },
  {
   "cell_type": "code",
   "execution_count": 303,
   "metadata": {},
   "outputs": [],
   "source": [
    "def get_update_date_if_update(row):\n",
    "    if 'עדכון' in re.findall('עדכון|עודכן', row['raw']):\n",
    "        return get_date_from_string(row['raw'])\n",
    "    else:\n",
    "        return None"
   ]
  },
  {
   "cell_type": "code",
   "execution_count": 304,
   "metadata": {},
   "outputs": [],
   "source": [
    "def get_date_from_string(string):\n",
    "    date_strings_list = re.findall('\\d{1,2}\\.\\d{1,2}\\.\\d{1,2}|\\d{1,2}/\\d{1,2}/\\d\\d', string)\n",
    "    if date_strings_list:\n",
    "        date = pd.to_datetime(date_strings_list[0], dayfirst=True)\n",
    "    else:\n",
    "        date_strings_list_2 = re.findall('\\d{1,2}\\.\\d{1,2}', string)\n",
    "        if date_strings_list_2:\n",
    "            if date_strings_list_2[0] == '24.32':\n",
    "                date_strings_list_2[0] = '24.3'\n",
    "            date = pd.to_datetime(date_strings_list_2[0] + '.20', dayfirst=True)\n",
    "        else:\n",
    "            date = None\n",
    "    return date"
   ]
  },
  {
   "cell_type": "code",
   "execution_count": 312,
   "metadata": {},
   "outputs": [],
   "source": [
    "def get_settlement_df(settlement_link, settlement_dict):\n",
    "    settlement_name = \" \".join(settlement_dict['title'].split()[:-9])\n",
    "    df = pd.Series(settlement_dict['datum']).to_frame('raw')\n",
    "    df['update_date_temp'] = df.apply(get_update_date_if_update, axis=1)\n",
    "    df['update_date'] = df['update_date_temp'].ffill()\n",
    "    clean_df = df[~df['update_date_temp'].notna()][['raw', 'update_date']].dropna(subset=['update_date'])\n",
    "    clean_df['incident_day'] = clean_df['raw'].apply(get_date_from_string)\n",
    "    clean_df['settlement_name'] = settlement_name\n",
    "    clean_df['settlement_link'] = settlement_link\n",
    "    return clean_df"
   ]
  },
  {
   "cell_type": "code",
   "execution_count": 314,
   "metadata": {},
   "outputs": [
    {
     "data": {
      "text/html": [
       "<div>\n",
       "<style scoped>\n",
       "    .dataframe tbody tr th:only-of-type {\n",
       "        vertical-align: middle;\n",
       "    }\n",
       "\n",
       "    .dataframe tbody tr th {\n",
       "        vertical-align: top;\n",
       "    }\n",
       "\n",
       "    .dataframe thead th {\n",
       "        text-align: right;\n",
       "    }\n",
       "</style>\n",
       "<table border=\"1\" class=\"dataframe\">\n",
       "  <thead>\n",
       "    <tr style=\"text-align: right;\">\n",
       "      <th></th>\n",
       "      <th>raw</th>\n",
       "      <th>update_date</th>\n",
       "      <th>incident_day</th>\n",
       "      <th>settlement_name</th>\n",
       "      <th>settlement_link</th>\n",
       "    </tr>\n",
       "  </thead>\n",
       "  <tbody>\n",
       "    <tr>\n",
       "      <td>0</td>\n",
       "      <td>10/04/2020 11:00- 13:00 מכולת ח'ריס מולא- ליד בניין מועצה מקומית , ירכא</td>\n",
       "      <td>2020-04-23</td>\n",
       "      <td>2020-04-10</td>\n",
       "      <td>ירכא</td>\n",
       "      <td>https://www.gov.il/he/departments/news/yarka-corona</td>\n",
       "    </tr>\n",
       "    <tr>\n",
       "      <td>1</td>\n",
       "      <td>13/04/2020 20:30- 22:30 מרכז המזון , ירכא</td>\n",
       "      <td>2020-04-21</td>\n",
       "      <td>2020-04-13</td>\n",
       "      <td>ירכא</td>\n",
       "      <td>https://www.gov.il/he/departments/news/yarka-corona</td>\n",
       "    </tr>\n",
       "    <tr>\n",
       "      <td>2</td>\n",
       "      <td>11.4.20, 10:00-13:00 - מרכז המזון ירכא, ירכא</td>\n",
       "      <td>2020-04-17</td>\n",
       "      <td>2020-04-11</td>\n",
       "      <td>ירכא</td>\n",
       "      <td>https://www.gov.il/he/departments/news/yarka-corona</td>\n",
       "    </tr>\n",
       "    <tr>\n",
       "      <td>3</td>\n",
       "      <td>11.4.20, 10:00-13:00 - מרכז מזון ירכא, ירכא</td>\n",
       "      <td>2020-04-17</td>\n",
       "      <td>2020-04-11</td>\n",
       "      <td>ירכא</td>\n",
       "      <td>https://www.gov.il/he/departments/news/yarka-corona</td>\n",
       "    </tr>\n",
       "    <tr>\n",
       "      <td>4</td>\n",
       "      <td>30/3/2020 - 15:00 עד 16:00 - מרקזא, ירכא</td>\n",
       "      <td>2020-04-13</td>\n",
       "      <td>2020-03-30</td>\n",
       "      <td>ירכא</td>\n",
       "      <td>https://www.gov.il/he/departments/news/yarka-corona</td>\n",
       "    </tr>\n",
       "  </tbody>\n",
       "</table>\n",
       "</div>"
      ],
      "text/plain": [
       "                                                                       raw  \\\n",
       "0  10/04/2020 11:00- 13:00 מכולת ח'ריס מולא- ליד בניין מועצה מקומית , ירכא   \n",
       "1  13/04/2020 20:30- 22:30 מרכז המזון , ירכא                                 \n",
       "2  11.4.20, 10:00-13:00 - מרכז המזון ירכא, ירכא                              \n",
       "3  11.4.20, 10:00-13:00 - מרכז מזון ירכא, ירכא                               \n",
       "4  30/3/2020 - 15:00 עד 16:00 - מרקזא, ירכא                                  \n",
       "\n",
       "  update_date incident_day settlement_name  \\\n",
       "0 2020-04-23  2020-04-10    ירכא             \n",
       "1 2020-04-21  2020-04-13    ירכא             \n",
       "2 2020-04-17  2020-04-11    ירכא             \n",
       "3 2020-04-17  2020-04-11    ירכא             \n",
       "4 2020-04-13  2020-03-30    ירכא             \n",
       "\n",
       "                                       settlement_link  \n",
       "0  https://www.gov.il/he/departments/news/yarka-corona  \n",
       "1  https://www.gov.il/he/departments/news/yarka-corona  \n",
       "2  https://www.gov.il/he/departments/news/yarka-corona  \n",
       "3  https://www.gov.il/he/departments/news/yarka-corona  \n",
       "4  https://www.gov.il/he/departments/news/yarka-corona  "
      ]
     },
     "execution_count": 314,
     "metadata": {},
     "output_type": "execute_result"
    }
   ],
   "source": [
    "temp_df = [get_settlement_df(key, value) for key, value in all_settlements_dict.items()]\n",
    "incidents_df = pd.concat(temp_df).reset_index(drop=True)\n",
    "incidents_df.head()"
   ]
  },
  {
   "cell_type": "code",
   "execution_count": 316,
   "metadata": {},
   "outputs": [
    {
     "data": {
      "text/html": [
       "<div>\n",
       "<style scoped>\n",
       "    .dataframe tbody tr th:only-of-type {\n",
       "        vertical-align: middle;\n",
       "    }\n",
       "\n",
       "    .dataframe tbody tr th {\n",
       "        vertical-align: top;\n",
       "    }\n",
       "\n",
       "    .dataframe thead th {\n",
       "        text-align: right;\n",
       "    }\n",
       "</style>\n",
       "<table border=\"1\" class=\"dataframe\">\n",
       "  <thead>\n",
       "    <tr style=\"text-align: right;\">\n",
       "      <th></th>\n",
       "      <th>raw</th>\n",
       "      <th>update_date</th>\n",
       "      <th>incident_day</th>\n",
       "      <th>settlement_name</th>\n",
       "      <th>settlement_link</th>\n",
       "    </tr>\n",
       "  </thead>\n",
       "  <tbody>\n",
       "    <tr>\n",
       "      <td>6128</td>\n",
       "      <td>29.4.2020 19:00 - 20:00 מחסני השוק מיתרים</td>\n",
       "      <td>2020-04-05</td>\n",
       "      <td>2020-04-29</td>\n",
       "      <td>שמעה</td>\n",
       "      <td>https://www.gov.il/he/departments/news/shomaa-corona</td>\n",
       "    </tr>\n",
       "  </tbody>\n",
       "</table>\n",
       "</div>"
      ],
      "text/plain": [
       "                                            raw update_date incident_day  \\\n",
       "6128  29.4.2020 19:00 - 20:00 מחסני השוק מיתרים 2020-04-05  2020-04-29     \n",
       "\n",
       "     settlement_name                                       settlement_link  \n",
       "6128  שמעה            https://www.gov.il/he/departments/news/shomaa-corona  "
      ]
     },
     "execution_count": 316,
     "metadata": {},
     "output_type": "execute_result"
    }
   ],
   "source": [
    "incidents_df[incidents_df['incident_day'] == '2020-04-29']"
   ]
  },
  {
   "cell_type": "code",
   "execution_count": 317,
   "metadata": {},
   "outputs": [
    {
     "data": {
      "text/html": [
       "<div>\n",
       "<style scoped>\n",
       "    .dataframe tbody tr th:only-of-type {\n",
       "        vertical-align: middle;\n",
       "    }\n",
       "\n",
       "    .dataframe tbody tr th {\n",
       "        vertical-align: top;\n",
       "    }\n",
       "\n",
       "    .dataframe thead th {\n",
       "        text-align: right;\n",
       "    }\n",
       "</style>\n",
       "<table border=\"1\" class=\"dataframe\">\n",
       "  <thead>\n",
       "    <tr style=\"text-align: right;\">\n",
       "      <th></th>\n",
       "      <th>raw</th>\n",
       "      <th>update_date</th>\n",
       "      <th>incident_day</th>\n",
       "      <th>settlement_name</th>\n",
       "      <th>settlement_link</th>\n",
       "    </tr>\n",
       "  </thead>\n",
       "  <tbody>\n",
       "    <tr>\n",
       "      <td>3991</td>\n",
       "      <td>4/1/2020 8:00  - 8:30 פיצה שמש רח' תרצה</td>\n",
       "      <td>2020-04-05</td>\n",
       "      <td>2020-01-04</td>\n",
       "      <td>רמת גן</td>\n",
       "      <td>https://www.gov.il/he/departments/news/ramat-gan-corona</td>\n",
       "    </tr>\n",
       "    <tr>\n",
       "      <td>3992</td>\n",
       "      <td>4/1/2020 8:00  - 8:30 מאור הפיצה רח' אריה בן אליעזר 24</td>\n",
       "      <td>2020-04-05</td>\n",
       "      <td>2020-01-04</td>\n",
       "      <td>רמת גן</td>\n",
       "      <td>https://www.gov.il/he/departments/news/ramat-gan-corona</td>\n",
       "    </tr>\n",
       "    <tr>\n",
       "      <td>4634</td>\n",
       "      <td>4/1/2020 9:30 - 18:00 הוסטל בית גיא רח' פנחס בן דוד 5</td>\n",
       "      <td>2020-04-05</td>\n",
       "      <td>2020-01-04</td>\n",
       "      <td>ראשון לציון</td>\n",
       "      <td>https://www.gov.il/he/departments/news/-rishon-lezion-corona</td>\n",
       "    </tr>\n",
       "  </tbody>\n",
       "</table>\n",
       "</div>"
      ],
      "text/plain": [
       "                                                          raw update_date  \\\n",
       "3991  4/1/2020 8:00  - 8:30 פיצה שמש רח' תרצה                 2020-04-05    \n",
       "3992  4/1/2020 8:00  - 8:30 מאור הפיצה רח' אריה בן אליעזר 24  2020-04-05    \n",
       "4634  4/1/2020 9:30 - 18:00 הוסטל בית גיא רח' פנחס בן דוד 5   2020-04-05    \n",
       "\n",
       "     incident_day settlement_name  \\\n",
       "3991 2020-01-04    רמת גן           \n",
       "3992 2020-01-04    רמת גן           \n",
       "4634 2020-01-04    ראשון לציון      \n",
       "\n",
       "                                                   settlement_link  \n",
       "3991  https://www.gov.il/he/departments/news/ramat-gan-corona       \n",
       "3992  https://www.gov.il/he/departments/news/ramat-gan-corona       \n",
       "4634  https://www.gov.il/he/departments/news/-rishon-lezion-corona  "
      ]
     },
     "execution_count": 317,
     "metadata": {},
     "output_type": "execute_result"
    }
   ],
   "source": [
    "incidents_df[incidents_df['incident_day'] == '2020-01-04']"
   ]
  },
  {
   "cell_type": "code",
   "execution_count": 346,
   "metadata": {},
   "outputs": [],
   "source": [
    "incidents_stat_df = incidents_df.groupby('incident_day').size().to_frame('size').reset_index()"
   ]
  },
  {
   "cell_type": "code",
   "execution_count": 345,
   "metadata": {},
   "outputs": [
    {
     "data": {
      "text/html": [
       "<div>\n",
       "<style scoped>\n",
       "    .dataframe tbody tr th:only-of-type {\n",
       "        vertical-align: middle;\n",
       "    }\n",
       "\n",
       "    .dataframe tbody tr th {\n",
       "        vertical-align: top;\n",
       "    }\n",
       "\n",
       "    .dataframe thead th {\n",
       "        text-align: right;\n",
       "    }\n",
       "</style>\n",
       "<table border=\"1\" class=\"dataframe\">\n",
       "  <thead>\n",
       "    <tr style=\"text-align: right;\">\n",
       "      <th></th>\n",
       "      <th>incident_day</th>\n",
       "      <th>size</th>\n",
       "    </tr>\n",
       "  </thead>\n",
       "  <tbody>\n",
       "    <tr>\n",
       "      <td>23</td>\n",
       "      <td>2020-03-26</td>\n",
       "      <td>278</td>\n",
       "    </tr>\n",
       "    <tr>\n",
       "      <td>16</td>\n",
       "      <td>2020-03-19</td>\n",
       "      <td>300</td>\n",
       "    </tr>\n",
       "    <tr>\n",
       "      <td>1</td>\n",
       "      <td>2020-03-01</td>\n",
       "      <td>3</td>\n",
       "    </tr>\n",
       "    <tr>\n",
       "      <td>46</td>\n",
       "      <td>2020-04-18</td>\n",
       "      <td>8</td>\n",
       "    </tr>\n",
       "    <tr>\n",
       "      <td>31</td>\n",
       "      <td>2020-04-03</td>\n",
       "      <td>119</td>\n",
       "    </tr>\n",
       "  </tbody>\n",
       "</table>\n",
       "</div>"
      ],
      "text/plain": [
       "   incident_day  size\n",
       "23 2020-03-26    278 \n",
       "16 2020-03-19    300 \n",
       "1  2020-03-01    3   \n",
       "46 2020-04-18    8   \n",
       "31 2020-04-03    119 "
      ]
     },
     "execution_count": 345,
     "metadata": {},
     "output_type": "execute_result"
    }
   ],
   "source": [
    "incidents_clean_stat_df = incidents_stat_df[(incidents_stat_df['incident_day'] >= '2020-03-01') & (incidents_stat_df['incident_day'] <= '2020-04-24')]\n",
    "incidents_clean_stat_df.sample(5)"
   ]
  },
  {
   "cell_type": "code",
   "execution_count": 344,
   "metadata": {},
   "outputs": [
    {
     "data": {
      "text/plain": [
       "<matplotlib.axes._subplots.AxesSubplot at 0x7f27a4fa1fd0>"
      ]
     },
     "execution_count": 344,
     "metadata": {},
     "output_type": "execute_result"
    },
    {
     "data": {
      "image/png": "[encoded data removed]",
      "text/plain": [
       "<Figure size 1080x540 with 1 Axes>"
      ]
     },
     "metadata": {
      "needs_background": "light"
     },
     "output_type": "display_data"
    }
   ],
   "source": [
    "incidents_clean_stat_df.plot(x='incident_day', y='size', marker='*')"
   ]
  },
  {
   "cell_type": "code",
   "execution_count": null,
   "metadata": {},
   "outputs": [],
   "source": []
  }
 ],
 "metadata": {
  "kernelspec": {
   "display_name": "Python 3",
   "language": "python",
   "name": "python3"
  },
  "language_info": {
   "codemirror_mode": {
    "name": "ipython",
    "version": 3
   },
   "file_extension": ".py",
   "mimetype": "text/x-python",
   "name": "python",
   "nbconvert_exporter": "python",
   "pygments_lexer": "ipython3",
   "version": "3.7.4"
  }
 },
 "nbformat": 4,
 "nbformat_minor": 2
}
